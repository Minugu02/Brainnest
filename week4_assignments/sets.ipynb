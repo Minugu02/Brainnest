{
 "cells": [
  {
   "attachments": {},
   "cell_type": "markdown",
   "metadata": {},
   "source": [
    "1. Given two sets A and B, write a function to return the symmetric difference between them as a new set. The symmetric difference is the set of elements that are in either A or B, but not in both."
   ]
  },
  {
   "cell_type": "code",
   "execution_count": null,
   "metadata": {},
   "outputs": [],
   "source": [
    "def symmetric(a, b):\n",
    "    return (a - b) | (b - a)\n",
    "\n",
    "a = {3, 7, 4, 5, 3, 2}\n",
    "b = {2, 4, 5, 2, 1, 7}\n",
    "\n",
    "print(symmetric(a,b))"
   ]
  },
  {
   "attachments": {},
   "cell_type": "markdown",
   "metadata": {},
   "source": [
    "#output\n",
    "\n",
    "{1, 3}\n"
   ]
  },
  {
   "attachments": {},
   "cell_type": "markdown",
   "metadata": {},
   "source": [
    "2. Given a list of numbers, write a function to return a set of all prime numbers from the list."
   ]
  },
  {
   "cell_type": "code",
   "execution_count": null,
   "metadata": {},
   "outputs": [],
   "source": [
    "def is_prime(n):\n",
    "    if n < 2:\n",
    "        return False\n",
    "    for i in range(2, int(n**0.5) + 1):\n",
    "        if n % i == 0:\n",
    "            return False\n",
    "    return True\n",
    "\n",
    "def get_primes(numbers):\n",
    "    primes = set()\n",
    "    for n in numbers:\n",
    "        if is_prime(n):\n",
    "            primes.add(n)\n",
    "    return primes\n",
    "\n",
    "num_list = [1, 2, 3, 4, 5, 6, 7, 8, 9, 10, 11, 12, 13, 14, 15, 16, 17, 18, 19, 20]\n",
    "print(get_primes(num_list))"
   ]
  },
  {
   "attachments": {},
   "cell_type": "markdown",
   "metadata": {},
   "source": [
    "#output\n",
    "\n",
    "{2, 3, 5, 7, 11, 13, 17, 19}"
   ]
  },
  {
   "attachments": {},
   "cell_type": "markdown",
   "metadata": {},
   "source": [
    "3. Given a list of words, write a function to return a set of all anagrams in the list."
   ]
  },
  {
   "cell_type": "code",
   "execution_count": null,
   "metadata": {},
   "outputs": [],
   "source": [
    "def find_anagrams(words):\n",
    "    anagrams = {}\n",
    "    for word in words:\n",
    "        sorted_word = ''.join(sorted(word))\n",
    "        if sorted_word in anagrams:\n",
    "            anagrams[sorted_word].append(word)\n",
    "        else:\n",
    "            anagrams[sorted_word] = [word]\n",
    "    return set([tuple(v) for v in anagrams.values() if len(v) > 1])\n",
    "\n",
    "words = ['apple', 'brush', 'shrub', 'laptop', 'worth', 'throw']\n",
    "anagrams = find_anagrams(words)\n",
    "print(anagrams)\n"
   ]
  },
  {
   "attachments": {},
   "cell_type": "markdown",
   "metadata": {},
   "source": [
    "#output\n",
    "\n",
    "{('worth', 'throw'), ('brush', 'shrub')}"
   ]
  },
  {
   "attachments": {},
   "cell_type": "markdown",
   "metadata": {},
   "source": [
    "4. Given a list of sets, write a function to return the Cartesian product of all sets in the list."
   ]
  },
  {
   "cell_type": "code",
   "execution_count": null,
   "metadata": {},
   "outputs": [],
   "source": [
    "def cartesian_product(sets):\n",
    "    if not sets:\n",
    "        return {()}\n",
    "    result = set()\n",
    "    for element in sets[0]:\n",
    "        for product in cartesian_product(sets[1:]):\n",
    "            result.add((element,) + product)\n",
    "    return result\n",
    "\n",
    "x = {4, 7}\n",
    "y = {3, 2}\n",
    "z = {1, 5}\n",
    "print(cartesian_product([x, y, z]))"
   ]
  },
  {
   "attachments": {},
   "cell_type": "markdown",
   "metadata": {},
   "source": [
    "#output\n",
    "\n",
    "{(4, 2, 5), (7, 3, 5), (4, 3, 5), (4, 3, 1), (4, 2, 1), (7, 3, 1), (7, 2, 5), (7, 2, 1)}"
   ]
  }
 ],
 "metadata": {
  "kernelspec": {
   "display_name": "Python 3",
   "language": "python",
   "name": "python3"
  },
  "language_info": {
   "name": "python",
   "version": "3.10.9"
  },
  "orig_nbformat": 4,
  "vscode": {
   "interpreter": {
    "hash": "f7a5be651532581cb44625d52e18aa1d390cab54bc6b51099d8c30bea9b68219"
   }
  }
 },
 "nbformat": 4,
 "nbformat_minor": 2
}
