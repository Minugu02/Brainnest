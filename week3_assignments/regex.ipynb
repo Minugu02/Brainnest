{
 "cells": [
  {
   "attachments": {},
   "cell_type": "markdown",
   "metadata": {},
   "source": [
    "1.  Write a regular expression that matches a date in the format dd/mm/yyyy. For example, the string \"01/01/2021\" should match."
   ]
  },
  {
   "cell_type": "code",
   "execution_count": null,
   "metadata": {},
   "outputs": [],
   "source": [
    "import re\n",
    "\n",
    "date = r\"\\d{2}/\\d{2}/\\d{4}\"\n",
    "\n",
    "input_str = \"Today's date is 22/05/2022\"\n",
    "\n",
    "match = re.search(date, input_str)\n",
    "\n",
    "if match:\n",
    "    print(\"Match found: \", match.group())\n",
    "else:\n",
    "    print(\"Match not found\")"
   ]
  },
  {
   "attachments": {},
   "cell_type": "markdown",
   "metadata": {},
   "source": [
    "#output\n",
    "\n",
    "Match found:  22/05/2022"
   ]
  },
  {
   "attachments": {},
   "cell_type": "markdown",
   "metadata": {},
   "source": [
    "2. Write a regular expression that matches a phone number in the format xxx-xxx-xxxx, where x is a digit. For example, the string \"123-456-7890\" should match."
   ]
  },
  {
   "cell_type": "code",
   "execution_count": null,
   "metadata": {},
   "outputs": [],
   "source": [
    "import re\n",
    "\n",
    "phone = re.compile(r'\\d{3}-\\d{3}-\\d{4}')\n",
    "\n",
    "enter_num = input(\"Enter a phone number: \")\n",
    "\n",
    "if phone.fullmatch(enter_num):\n",
    "    print(\"Valid phone number\")\n",
    "else:\n",
    "    print(\"Invalid phone number.Please enter in the format xxx-xxx-xxxx.\")"
   ]
  },
  {
   "attachments": {},
   "cell_type": "markdown",
   "metadata": {},
   "source": [
    "#output\n",
    "\n",
    "Enter a phone number: 456-563-3423\n",
    "Valid phone number"
   ]
  },
  {
   "attachments": {},
   "cell_type": "markdown",
   "metadata": {},
   "source": [
    "3. Write a regular expression that matches a valid email address. For example, the string \"example@example.com\" should match."
   ]
  },
  {
   "cell_type": "code",
   "execution_count": null,
   "metadata": {},
   "outputs": [],
   "source": [
    "import re\n",
    "\n",
    "email = input(\"Enter an email address: \")\n",
    "\n",
    "pattern = r'^[a-zA-Z0-9._%+-]+@[a-zA-Z0-9.-]+\\.[a-zA-Z]{2,}$'\n",
    "\n",
    "if re.match(pattern, email):\n",
    "    print(\"Valid email address\")\n",
    "else:\n",
    "    print(\"Invalid email address\")"
   ]
  },
  {
   "attachments": {},
   "cell_type": "markdown",
   "metadata": {},
   "source": [
    "#output\n",
    "\n",
    "Enter an email address: minu@gmail.com\n",
    "Valid email address"
   ]
  },
  {
   "attachments": {},
   "cell_type": "markdown",
   "metadata": {},
   "source": [
    "4. Write a regular expression that matches a string that starts with a word, followed by one or more whitespace characters, followed by another word. For example, the string \"hello world\" should match."
   ]
  },
  {
   "cell_type": "code",
   "execution_count": null,
   "metadata": {},
   "outputs": [],
   "source": [
    "import re\n",
    "\n",
    "string = \"beautiful soup\"\n",
    "pattern = r\"\\w+\\s+\\w+\"\n",
    "\n",
    "match = re.search(pattern, string)\n",
    "if match:\n",
    "    print(\"Match found:\", match.group())\n",
    "else:\n",
    "    print(\"No match found.\")\n"
   ]
  },
  {
   "attachments": {},
   "cell_type": "markdown",
   "metadata": {},
   "source": [
    "#output\n",
    "\n",
    "Match found: beautiful soup"
   ]
  },
  {
   "attachments": {},
   "cell_type": "markdown",
   "metadata": {},
   "source": [
    "5. Write a regular expression that matches a string that contains a number with exactly two decimal places. For example, the string \"1.23\" should match, but the string \"1.234\" should not match."
   ]
  },
  {
   "cell_type": "code",
   "execution_count": null,
   "metadata": {},
   "outputs": [],
   "source": [
    "import re\n",
    "\n",
    "pattern = r'^\\d+\\.\\d{2}$'\n",
    "\n",
    "test_strings = ['3.42', '5.874', '4.03', '3.008', '7.09']\n",
    "\n",
    "for string in test_strings:\n",
    "    match = re.match(pattern, string)\n",
    "    if match:\n",
    "        print(f'{string} matches the pattern')\n",
    "    else:\n",
    "        print(f'{string} does not match the pattern')\n"
   ]
  },
  {
   "attachments": {},
   "cell_type": "markdown",
   "metadata": {},
   "source": [
    "#output\n",
    "\n",
    "3.42 matches the pattern\n",
    "5.874 does not match the pattern\n",
    "4.03 matches the pattern\n",
    "3.008 does not match the pattern\n",
    "7.09 matches the pattern"
   ]
  }
 ],
 "metadata": {
  "kernelspec": {
   "display_name": "Python 3",
   "language": "python",
   "name": "python3"
  },
  "language_info": {
   "name": "python",
   "version": "3.10.9 (tags/v3.10.9:1dd9be6, Dec  6 2022, 20:01:21) [MSC v.1934 64 bit (AMD64)]"
  },
  "orig_nbformat": 4,
  "vscode": {
   "interpreter": {
    "hash": "f7a5be651532581cb44625d52e18aa1d390cab54bc6b51099d8c30bea9b68219"
   }
  }
 },
 "nbformat": 4,
 "nbformat_minor": 2
}
