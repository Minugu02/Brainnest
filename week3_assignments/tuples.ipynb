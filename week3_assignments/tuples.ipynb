{
 "cells": [
  {
   "attachments": {},
   "cell_type": "markdown",
   "metadata": {},
   "source": [
    "1. Write a function to find the most common elements in a tuple."
   ]
  },
  {
   "cell_type": "code",
   "execution_count": null,
   "metadata": {},
   "outputs": [],
   "source": [
    "from collections import Counter\n",
    "\n",
    "def most_common_elements(t):\n",
    "    count = Counter(t)\n",
    "    max_count = max(count.values())\n",
    "    return [k for k, v in count.items() if v == max_count]\n",
    "\n",
    "my_tuple = (3, 6, 5, 2, 3, 6, 3, 8, 2, 9, 0, 3, 1, 4)\n",
    "common = most_common_elements(my_tuple)\n",
    "print(common)"
   ]
  },
  {
   "attachments": {},
   "cell_type": "markdown",
   "metadata": {},
   "source": [
    "#output\n",
    "\n",
    "[3]"
   ]
  },
  {
   "attachments": {},
   "cell_type": "markdown",
   "metadata": {},
   "source": [
    "2. Write a function to check if a given tuple is a palindrome, meaning the elements are the same in reverse order."
   ]
  },
  {
   "cell_type": "code",
   "execution_count": null,
   "metadata": {},
   "outputs": [],
   "source": [
    "def is_tuple_palindrome(t):\n",
    "    return t == t[::-1]\n",
    "\n",
    "tuple_a = (1, 5, 6, 5, 1)\n",
    "tuple_b = (3, 4, 6, 9, 10, 8)\n",
    "print(is_tuple_palindrome(tuple_a))\n",
    "print(is_tuple_palindrome(tuple_b))"
   ]
  },
  {
   "attachments": {},
   "cell_type": "markdown",
   "metadata": {},
   "source": [
    "#output\n",
    "\n",
    "True\n",
    "False"
   ]
  },
  {
   "attachments": {},
   "cell_type": "markdown",
   "metadata": {},
   "source": [
    "3. Write a function to find the frequency of elements in a tuple, and return a dictionary mapping each element to its frequency."
   ]
  },
  {
   "cell_type": "code",
   "execution_count": null,
   "metadata": {},
   "outputs": [],
   "source": [
    "def count_elements(tup):\n",
    "    freq = {}\n",
    "    for elem in tup:\n",
    "        if elem in freq:\n",
    "            freq[elem] += 1\n",
    "        else:\n",
    "            freq[elem] = 1\n",
    "    return freq\n",
    "\n",
    "my_tuple = (2, 2, 4, 6, 6, 8, 0, 0, 8, 2, 4, 6, 8, 0, 2)\n",
    "print(count_elements(my_tuple))"
   ]
  },
  {
   "attachments": {},
   "cell_type": "markdown",
   "metadata": {},
   "source": [
    "#output\n",
    "\n",
    "{2: 4, 4: 2, 6: 3, 8: 3, 0: 3}"
   ]
  },
  {
   "attachments": {},
   "cell_type": "markdown",
   "metadata": {},
   "source": [
    "4. Write a function that takes a tuple as an argument and returns a new tuple with only the even elements from the original tuple."
   ]
  },
  {
   "cell_type": "code",
   "execution_count": null,
   "metadata": {},
   "outputs": [],
   "source": [
    "def even_elements(t):\n",
    "    return tuple(filter(lambda x: x % 2 == 0, t))\n",
    "\n",
    "my_tuple = (1, 4, 6, 5, 8, 9, 12, 15, 16, 22, 21, 24)\n",
    "print(even_elements(my_tuple))"
   ]
  },
  {
   "attachments": {},
   "cell_type": "markdown",
   "metadata": {},
   "source": [
    "#output\n",
    "\n",
    "(4, 6, 8, 12, 16, 22, 24)"
   ]
  },
  {
   "attachments": {},
   "cell_type": "markdown",
   "metadata": {},
   "source": [
    "5. Write a function to find all unique elements in a tuple and return them in a new tuple."
   ]
  },
  {
   "cell_type": "code",
   "execution_count": null,
   "metadata": {},
   "outputs": [],
   "source": [
    "def unique_elements(t):\n",
    "    return tuple(set(t))\n",
    "\n",
    "my_tuple = (1, 16, 6, 5, 8, 3, 12, 15, 16, 2, 1, 24, 5, 8, 2, 1)\n",
    "print(unique_elements(my_tuple))"
   ]
  },
  {
   "attachments": {},
   "cell_type": "markdown",
   "metadata": {},
   "source": [
    "#output\n",
    "\n",
    "(1, 2, 3, 5, 6, 8, 12, 15, 16, 24)"
   ]
  }
 ],
 "metadata": {
  "kernelspec": {
   "display_name": "Python 3",
   "language": "python",
   "name": "python3"
  },
  "language_info": {
   "name": "python",
   "version": "3.10.9 (tags/v3.10.9:1dd9be6, Dec  6 2022, 20:01:21) [MSC v.1934 64 bit (AMD64)]"
  },
  "orig_nbformat": 4,
  "vscode": {
   "interpreter": {
    "hash": "f7a5be651532581cb44625d52e18aa1d390cab54bc6b51099d8c30bea9b68219"
   }
  }
 },
 "nbformat": 4,
 "nbformat_minor": 2
}
