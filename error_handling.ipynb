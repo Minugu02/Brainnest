{
 "cells": [
  {
   "attachments": {},
   "cell_type": "markdown",
   "metadata": {},
   "source": [
    "1. Write a function that takes a list of integers as an argument, and returns the sum of the integers. Use a try-except block to catch any ValueError exceptions that may be raised when attempting to convert a string to an integer."
   ]
  },
  {
   "cell_type": "code",
   "execution_count": null,
   "metadata": {},
   "outputs": [],
   "source": [
    "def sum_of_list(num_list):\n",
    "    total = 0\n",
    "    for num in num_list:\n",
    "            total += int(num)\n",
    "    return total\n",
    "\n",
    "num_list = input(\"Enter a list of integers separated by spaces: \").split()\n",
    "\n",
    "try:\n",
    "    result = sum_of_list(num_list)\n",
    "    print(\"The sum of the integers is: \", result)\n",
    "except ValueError:\n",
    "    print(\"Invalid input, please enter integers only\")\n"
   ]
  },
  {
   "attachments": {},
   "cell_type": "markdown",
   "metadata": {},
   "source": [
    "#output1\n",
    "\n",
    "Enter a list of integers separated by spaces: 45 6 ui  84 56 2 0 sky\n",
    "Invalid input, please enter integers only\n",
    "\n",
    "#output2\n",
    "\n",
    "Enter a list of integers separated by spaces: 45 6 3 78 19 20\n",
    "The sum of the integers is:  171"
   ]
  },
  {
   "attachments": {},
   "cell_type": "markdown",
   "metadata": {},
   "source": [
    "2. Write a function that takes a filename as an argument, and attempts to open the file. Use a try-except block to catch any FileNotFoundError exceptions that may be raised when attempting to open the file. If the file is successfully opened, the function should return the contents of the file."
   ]
  },
  {
   "cell_type": "code",
   "execution_count": null,
   "metadata": {},
   "outputs": [],
   "source": [
    "def read_file(filename):\n",
    "    try:\n",
    "        with open(filename, 'r') as file:\n",
    "            contents = file.read()\n",
    "        return contents\n",
    "    except FileNotFoundError:\n",
    "        print(f\"The file '{filename}' could not be found.\")\n",
    "\n",
    "filename = 'demofile.txt'\n",
    "file_contents = read_file(filename)\n",
    "if file_contents is not None:\n",
    "    print(f\"The contents of '{filename}' are:\\n{file_contents}\")"
   ]
  },
  {
   "attachments": {},
   "cell_type": "markdown",
   "metadata": {},
   "source": [
    "#output\n",
    "\n",
    "The contents of 'demofile.txt' are:\n",
    "This is a demo file and it has some demo content.\n",
    "The file has more content.\n",
    "Read from the file.\n",
    "Write from the file."
   ]
  },
  {
   "attachments": {},
   "cell_type": "markdown",
   "metadata": {},
   "source": [
    "3. Write a function that takes a list of strings as an argument, and returns a new list containing only the strings that can be successfully converted to a float. Use a try-except block to catch any ValueError exceptions that may be raised when attempting to convert a string to a float."
   ]
  },
  {
   "cell_type": "code",
   "execution_count": null,
   "metadata": {},
   "outputs": [],
   "source": [
    "def convert_to_float(strings):\n",
    "    floats = []\n",
    "    for s in strings:\n",
    "        try:\n",
    "            f = float(s)\n",
    "            floats.append(f)\n",
    "        except ValueError:\n",
    "            pass\n",
    "    return floats\n",
    "\n",
    "strings = ['45.78', '68', 'wonder', '0.09', '1', 'sky']\n",
    "floats = convert_to_float(strings)\n",
    "print(floats)"
   ]
  },
  {
   "attachments": {},
   "cell_type": "markdown",
   "metadata": {},
   "source": [
    "#output\n",
    "\n",
    "[45.78, 68.0, 0.09, 1.0]"
   ]
  },
  {
   "attachments": {},
   "cell_type": "markdown",
   "metadata": {},
   "source": [
    "4. Write a function that takes a list of dictionaries as an argument, and returns the value of a specified key from each dictionary. Use a try-except block to catch any KeyError exceptions that may be raised when attempting to access a key that does not exist in a dictionary."
   ]
  },
  {
   "cell_type": "code",
   "execution_count": null,
   "metadata": {},
   "outputs": [],
   "source": [
    "def get_dicts(dicts, key):\n",
    "    values = []\n",
    "    for d in dicts:\n",
    "        try:\n",
    "            value = d[key]\n",
    "            values.append(value)\n",
    "        except KeyError:\n",
    "            pass\n",
    "    return values\n",
    "\n",
    "my_list = [{'name': 'Tom'}, {'name': 'John', 'age': 14, 'city': 'San Jose'}, {'name': 'Taylor', 'age': 20}]\n",
    "names = get_dicts(my_list, 'name')\n",
    "ages = get_dicts(my_list, 'age')\n",
    "cities = get_dicts(my_list, 'city')\n",
    "print(names)\n",
    "print(ages)\n",
    "print(cities)"
   ]
  },
  {
   "attachments": {},
   "cell_type": "markdown",
   "metadata": {},
   "source": [
    "#output\n",
    "\n",
    "['Tom', 'John', 'Taylor']\n",
    "[14, 20]\n",
    "['San Jose']"
   ]
  },
  {
   "attachments": {},
   "cell_type": "markdown",
   "metadata": {},
   "source": [
    "5. Write a function that takes a list of integers as an argument, and returns the largest integer in the list. Use a try-except block to catch any ValueError exceptions that may be raised when attempting to compare elements that are not integers."
   ]
  },
  {
   "cell_type": "code",
   "execution_count": null,
   "metadata": {},
   "outputs": [],
   "source": [
    "def largest_int(my_list):\n",
    "    largest_int = None\n",
    "    for num in my_list:\n",
    "        try:\n",
    "            num = int(num)\n",
    "            if largest_int is None or num > largest_int:\n",
    "                largest_int = num\n",
    "        except ValueError:\n",
    "            print(\"Error: list has non-integer value\")\n",
    "    return largest_int\n",
    "\n",
    "list1 = [56, 3, 9, 84, 91, 50]\n",
    "list2 = [10, 23, 12, \"hello\", 34]\n",
    "\n",
    "print(largest_int(list1))\n",
    "print(largest_int(list2))"
   ]
  },
  {
   "attachments": {},
   "cell_type": "markdown",
   "metadata": {},
   "source": [
    "#output\n",
    "\n",
    "91\n",
    "Error: list has non-integer value\n",
    "34"
   ]
  }
 ],
 "metadata": {
  "kernelspec": {
   "display_name": "Python 3",
   "language": "python",
   "name": "python3"
  },
  "language_info": {
   "name": "python",
   "version": "3.11.1"
  },
  "orig_nbformat": 4,
  "vscode": {
   "interpreter": {
    "hash": "aee8b7b246df8f9039afb4144a1f6fd8d2ca17a180786b69acc140d282b71a49"
   }
  }
 },
 "nbformat": 4,
 "nbformat_minor": 2
}
