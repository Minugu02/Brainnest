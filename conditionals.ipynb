{
 "cells": [
  {
   "attachments": {},
   "cell_type": "markdown",
   "metadata": {},
   "source": [
    "1. Write a program that prompts the user for a string and checks whether the string is a palindrome (i.e., the string reads the same forward and backward)."
   ]
  },
  {
   "cell_type": "code",
   "execution_count": null,
   "metadata": {},
   "outputs": [],
   "source": [
    " \n",
    "user_input = input(\"Enter a string to check if it is palindrome: \")\n",
    "user_input = user_input.casefold()\n",
    "reverse_input = reversed (user_input)\n",
    "if (list (user_input)) == list(reverse_input):\n",
    "    print(\"The string is palindrome\")\n",
    "else:\n",
    "    print(\"The string is not palindrome\")"
   ]
  },
  {
   "attachments": {},
   "cell_type": "markdown",
   "metadata": {},
   "source": [
    "#output1 \n",
    "Enter a string to check if it is palindrome: mom\n",
    "The string is palindrome\n",
    "\n",
    "#output2 \n",
    "Enter a string to check if it is palindrome: hello\n",
    "The string is not palindrome"
   ]
  },
  {
   "attachments": {},
   "cell_type": "markdown",
   "metadata": {},
   "source": [
    "2. Write a program that takes in a list of integers and returns the sum of all even numbers in the list."
   ]
  },
  {
   "cell_type": "code",
   "execution_count": null,
   "metadata": {},
   "outputs": [],
   "source": [
    "numlist = []\n",
    "evensum = 0\n",
    "num = int(input(\"Please enter the no. of elements in list\"))\n",
    "for i in range(1, num+1):\n",
    "    value = int(input(\"Please enter the number \"))\n",
    "    numlist.append(value)\n",
    "for j in range(num):\n",
    "    if(numlist[j]%2 == 0):\n",
    "        evensum = evensum + numlist[j]\n",
    "print(\"Sum of even numbers in this list = \", evensum)"
   ]
  },
  {
   "attachments": {},
   "cell_type": "markdown",
   "metadata": {},
   "source": [
    "#output\n",
    "\n",
    "Please enter the no. of elements in list: 5\n",
    "Please enter the number 34\n",
    "Please enter the number 4\n",
    "Please enter the number 6\n",
    "Please enter the number 76\n",
    "Please enter the number 32\n",
    "Sum of even numbers in this list =  152"
   ]
  },
  {
   "attachments": {},
   "cell_type": "markdown",
   "metadata": {},
   "source": [
    "3. Write a program that prompts the user for their age and checks whether they are old enough to vote (i.e., 18 years old or older)."
   ]
  },
  {
   "cell_type": "code",
   "execution_count": null,
   "metadata": {},
   "outputs": [],
   "source": [
    "age = int(input(\"Enter age: \"))\n",
    "if age >= 18:\n",
    "    print(\"Eligible for voting.\")\n",
    "else:\n",
    "    print(\"Not eligible for voting.\")"
   ]
  },
  {
   "attachments": {},
   "cell_type": "markdown",
   "metadata": {},
   "source": [
    "#output1\n",
    "Enter age: 17\n",
    "Not eligible for voting.\n",
    "\n",
    "#output2\n",
    "Enter age: 54\n",
    "Eligible for voting."
   ]
  },
  {
   "attachments": {},
   "cell_type": "markdown",
   "metadata": {},
   "source": [
    "4. Write a program that takes in a list of integers and returns the largest number in the list that is also divisible by 3."
   ]
  },
  {
   "cell_type": "code",
   "execution_count": null,
   "metadata": {},
   "outputs": [],
   "source": [
    "int_list = input(\"Enter a list of integers separated by spaces: \").split()\n",
    "div = [int(num) for num  in int_list if int(num) % 3 == 0]\n",
    "\n",
    "if not div:\n",
    "    print(\"There are no numbers in  the list divisible by 3\")\n",
    "else:\n",
    "    max_div = max(div)\n",
    "    print(\"The largest number divisible by 3 in the list is: \", max_div)"
   ]
  },
  {
   "attachments": {},
   "cell_type": "markdown",
   "metadata": {},
   "source": [
    "#output\n",
    "Enter a list of integers separated by spaces: 45 3 23 67 89 90 34\n",
    "The largest number divisible by 3 in the list is:  90"
   ]
  },
  {
   "attachments": {},
   "cell_type": "markdown",
   "metadata": {},
   "source": [
    "5. Write a program that prompts the user for a number and checks whether the number is a prime number (i.e., only divisible by 1 and itself)."
   ]
  },
  {
   "cell_type": "code",
   "execution_count": null,
   "metadata": {},
   "outputs": [],
   "source": [
    "num = int(input(\"Enter a number: \"))\n",
    "if num > 1:\n",
    "    for i in range(2, int(num/2)+1):\n",
    "        if (num % i) == 0:\n",
    "            print(num, \"is not a prime number\")\n",
    "            break\n",
    "    else:\n",
    "        print(num, \"is a prime number\")\n",
    "else:\n",
    "    print(num, \"is not a prime number\")"
   ]
  },
  {
   "attachments": {},
   "cell_type": "markdown",
   "metadata": {},
   "source": [
    "#output1\n",
    "Enter a number: 56\n",
    "56 is not a prime number\n",
    "\n",
    "#output2\n",
    "Enter a number: 7\n",
    "7 is a prime number"
   ]
  }
 ],
 "metadata": {
  "kernelspec": {
   "display_name": "Python 3",
   "language": "python",
   "name": "python3"
  },
  "language_info": {
   "name": "python",
   "version": "3.11.1"
  },
  "orig_nbformat": 4,
  "vscode": {
   "interpreter": {
    "hash": "aee8b7b246df8f9039afb4144a1f6fd8d2ca17a180786b69acc140d282b71a49"
   }
  }
 },
 "nbformat": 4,
 "nbformat_minor": 2
}
