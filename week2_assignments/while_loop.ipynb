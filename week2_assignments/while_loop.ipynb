{
 "cells": [
  {
   "attachments": {},
   "cell_type": "markdown",
   "metadata": {},
   "source": [
    "1. Create a while loop that repeatedly takes user input and adds the input to a list until the user enters \"done\"."
   ]
  },
  {
   "cell_type": "code",
   "execution_count": null,
   "metadata": {
    "vscode": {
     "languageId": "plaintext"
    }
   },
   "outputs": [],
   "source": [
    "input_list = []\n",
    "\n",
    "while True:\n",
    "    user_input = input(\"Enter a value to add to the list: \")\n",
    "    if user_input == 'done':\n",
    "        break\n",
    "    else:\n",
    "        input_list.append(user_input)\n",
    "\n",
    "print(\"Final list: \", input_list)"
   ]
  },
  {
   "attachments": {},
   "cell_type": "markdown",
   "metadata": {},
   "source": [
    "#output\n",
    "\n",
    "Enter a value to add to the list: 45\n",
    "Enter a value to add to the list: hello\n",
    "Enter a value to add to the list: -67\n",
    "Enter a value to add to the list: hey\n",
    "Enter a value to add to the list: sky\n",
    "Enter a value to add to the list: done\n",
    "Final list:  ['45', 'hello', '-67', 'hey', 'sky']"
   ]
  },
  {
   "attachments": {},
   "cell_type": "markdown",
   "metadata": {},
   "source": [
    "2. Create a while loop that generates random numbers and adds them to a list until the sum of all numbers in the list is greater than 100."
   ]
  },
  {
   "cell_type": "code",
   "execution_count": null,
   "metadata": {
    "vscode": {
     "languageId": "plaintext"
    }
   },
   "outputs": [],
   "source": [
    "import random\n",
    "\n",
    "numbers = []\n",
    "total = 0\n",
    "\n",
    "while total <= 100:\n",
    "    num = random.randint(1,25)\n",
    "    numbers.append(num)\n",
    "    total += num\n",
    "\n",
    "print(numbers)"
   ]
  },
  {
   "attachments": {},
   "cell_type": "markdown",
   "metadata": {},
   "source": [
    "#output\n",
    "\n",
    "[13, 22, 5, 16, 13, 7, 13, 4, 11]\n"
   ]
  },
  {
   "attachments": {},
   "cell_type": "markdown",
   "metadata": {},
   "source": [
    "3. Create a while loop that repeatedly takes user input and appends it to a list, but only if the input is a unique string."
   ]
  },
  {
   "cell_type": "code",
   "execution_count": null,
   "metadata": {
    "vscode": {
     "languageId": "plaintext"
    }
   },
   "outputs": [],
   "source": [
    "unique_list = []\n",
    "\n",
    "while True:\n",
    "    user_input = input(\"Enter a unique string or done to exit: \")\n",
    "\n",
    "    if user_input == 'done':\n",
    "        break\n",
    "\n",
    "    if user_input not in unique_list:\n",
    "        unique_list.append(user_input)\n",
    "        print(\"Added '{}' to the list\".format(user_input))\n",
    "    else:\n",
    "        print(\"'{}' is  not a unique string.\".format(user_input))\n",
    "\n",
    "print(\"Final list: \", unique_list)"
   ]
  },
  {
   "attachments": {},
   "cell_type": "markdown",
   "metadata": {},
   "source": [
    "#output\n",
    "\n",
    "Enter a unique string or done to exit: 5\n",
    "Added '5' to the list\n",
    "Enter a unique string or done to exit: hey\n",
    "Added 'hey' to the list\n",
    "Enter a unique string or done to exit: water\n",
    "Added 'water' to the list\n",
    "Enter a unique string or done to exit: 43\n",
    "Added '43' to the list\n",
    "Enter a unique string or done to exit: hey\n",
    "'hey' is  not a unique string.\n",
    "Enter a unique string or done to exit: rock\n",
    "Added 'rock' to the list\n",
    "Enter a unique string or done to exit: done\n",
    "Final list:  ['5', 'hey', 'water', '43', 'rock']"
   ]
  },
  {
   "attachments": {},
   "cell_type": "markdown",
   "metadata": {},
   "source": [
    "4. Create a while loop that repeatedly takes user input and appends it to a list, but only if the input is a number greater than 10."
   ]
  },
  {
   "cell_type": "code",
   "execution_count": null,
   "metadata": {
    "vscode": {
     "languageId": "plaintext"
    }
   },
   "outputs": [],
   "source": [
    "num_list = []\n",
    "\n",
    "while True:\n",
    "    num = input(\"Enter a number greater than 10 or done to exit: \")\n",
    "    if num == 'done':\n",
    "        break\n",
    "    try:\n",
    "        num = int(num)\n",
    "        if num > 10:\n",
    "            num_list.append(num)\n",
    "            print(f\"{num} has been added to the list\")\n",
    "        else:\n",
    "            print(f\"{num} is not greater than 10\")\n",
    "    except ValueError:\n",
    "        print(\"Invalid input. Please enter a number.\")\n",
    "\n",
    "print(\"Final list is: \", num_list)"
   ]
  },
  {
   "attachments": {},
   "cell_type": "markdown",
   "metadata": {},
   "source": [
    "#output\n",
    "\n",
    "Enter a number greater than 10 or done to exit: 16\n",
    "16 has been added to the list\n",
    "Enter a number greater than 10 or done to exit: 24\n",
    "24 has been added to the list\n",
    "Enter a number greater than 10 or done to exit: 7\n",
    "7 is not greater than 10\n",
    "Enter a number greater than 10 or done to exit: 15\n",
    "15 has been added to the list\n",
    "Enter a number greater than 10 or done to exit: 12\n",
    "12 has been added to the list\n",
    "Enter a number greater than 10 or done to exit: done\n",
    "Final list is:  [16, 24, 15, 12]"
   ]
  },
  {
   "attachments": {},
   "cell_type": "markdown",
   "metadata": {},
   "source": [
    "5. Create a while loop that repeatedly takes user input and keeps track of the highest number entered until the user enters \"done\"."
   ]
  },
  {
   "cell_type": "code",
   "execution_count": null,
   "metadata": {
    "vscode": {
     "languageId": "plaintext"
    }
   },
   "outputs": [],
   "source": [
    "highest = None\n",
    "\n",
    "while True:\n",
    "    num = input(\"Enter a number or done to exit: \")\n",
    "\n",
    "    if num == 'done':\n",
    "        break\n",
    "\n",
    "    try:\n",
    "        num = int(num)\n",
    "        if highest is None or num > highest:\n",
    "            highest = num\n",
    "    except ValueError:\n",
    "        print(\"Invalid input. Please enter a number\")\n",
    "\n",
    "print(f\"The highest number entered was: {highest}\")"
   ]
  },
  {
   "attachments": {},
   "cell_type": "markdown",
   "metadata": {},
   "source": [
    "#output\n",
    "\n",
    "\n",
    "Enter a number or done to exit: 5\n",
    "Enter a number or done to exit: 6\n",
    "Enter a number or done to exit: 8\n",
    "Enter a number or done to exit: 9\n",
    "Enter a number or done to exit: 4\n",
    "Enter a number or done to exit: done\n",
    "The highest number entered was: 9"
   ]
  }
 ],
 "metadata": {
  "language_info": {
   "name": "python"
  },
  "orig_nbformat": 4
 },
 "nbformat": 4,
 "nbformat_minor": 2
}
