{
 "cells": [
  {
   "attachments": {},
   "cell_type": "markdown",
   "metadata": {},
   "source": [
    "1. Create a for loop that iterates through a list of strings and prints each string in uppercase."
   ]
  },
  {
   "cell_type": "code",
   "execution_count": null,
   "metadata": {},
   "outputs": [],
   "source": [
    "words = input(\"Enter a list of words separated by spaces: \").split()\n",
    "\n",
    "for word in words:\n",
    "    try:\n",
    "        print(word.upper())\n",
    "    except AttributeError:\n",
    "        print(f\"{word} is not a string\")"
   ]
  },
  {
   "attachments": {},
   "cell_type": "markdown",
   "metadata": {},
   "source": [
    "#output\n",
    "\n",
    "Enter a list of words separated by spaces: this is a beautiful place\n",
    "THIS\n",
    "IS\n",
    "A\n",
    "BEAUTIFUL\n",
    "PLACE"
   ]
  },
  {
   "attachments": {},
   "cell_type": "markdown",
   "metadata": {},
   "source": [
    "2. Create a for loop that iterates through a list of numbers and prints the square of each number."
   ]
  },
  {
   "cell_type": "code",
   "execution_count": null,
   "metadata": {},
   "outputs": [],
   "source": [
    "numbers = [2, 3,  6, 8, 32, 14]\n",
    "\n",
    "for num in numbers:\n",
    "    print(num ** 2)"
   ]
  },
  {
   "attachments": {},
   "cell_type": "markdown",
   "metadata": {},
   "source": [
    "#output\n",
    "\n",
    "4\n",
    "9\n",
    "36\n",
    "64\n",
    "1024\n",
    "196"
   ]
  },
  {
   "attachments": {},
   "cell_type": "markdown",
   "metadata": {},
   "source": [
    "3. Create a for loop that iterates through a list of dictionaries and prints the value of a specified key for each dictionary."
   ]
  },
  {
   "cell_type": "code",
   "execution_count": null,
   "metadata": {},
   "outputs": [],
   "source": [
    "list_of_dicts = [\n",
    "    {'fname': 'John', 'lname': 'Kelton'},\n",
    "    {'fname': 'Katy', 'lname': 'Perry'},\n",
    "    {'fname': 'Clare', 'lname': 'Beri'}\n",
    "]\n",
    "for my_dict in list_of_dicts:\n",
    "    print(my_dict['fname'])"
   ]
  },
  {
   "attachments": {},
   "cell_type": "markdown",
   "metadata": {},
   "source": [
    "#output\n",
    "\n",
    "John\n",
    "Katy\n",
    "Clare"
   ]
  },
  {
   "attachments": {},
   "cell_type": "markdown",
   "metadata": {},
   "source": [
    "4. Create a for loop that iterates through a list of numbers and prints the largest number in the list."
   ]
  },
  {
   "cell_type": "code",
   "execution_count": null,
   "metadata": {},
   "outputs": [],
   "source": [
    "numbers = [3, 14, 67, 45, 98, 34, 52, 18, 5]\n",
    "\n",
    "largest_num = numbers[0]\n",
    "\n",
    "for num in numbers:\n",
    "    if num > largest_num:\n",
    "        largest_num = num\n",
    "\n",
    "print(\"The largest number in the list is: \", largest_num)"
   ]
  },
  {
   "attachments": {},
   "cell_type": "markdown",
   "metadata": {},
   "source": [
    "#output\n",
    "\n",
    "\n",
    "The largest number in the list is:  98"
   ]
  },
  {
   "attachments": {},
   "cell_type": "markdown",
   "metadata": {},
   "source": [
    "5. Create a for loop that iterates through a list of lists and prints the sum of the elements in each sub-list."
   ]
  },
  {
   "cell_type": "code",
   "execution_count": null,
   "metadata": {},
   "outputs": [],
   "source": [
    "lists = [[4, 7, 9], [34, 12, 4], [78, 54, 23, 2, 18]]\n",
    "\n",
    "for sub_list in lists:\n",
    "    print(sum(sub_list))"
   ]
  },
  {
   "attachments": {},
   "cell_type": "markdown",
   "metadata": {},
   "source": [
    "#output\n",
    "\n",
    "20\n",
    "50\n",
    "175"
   ]
  }
 ],
 "metadata": {
  "language_info": {
   "name": "python"
  },
  "orig_nbformat": 4
 },
 "nbformat": 4,
 "nbformat_minor": 2
}
